{
 "cells": [
  {
   "cell_type": "code",
   "execution_count": null,
   "metadata": {},
   "outputs": [],
   "source": [
    "using Revise\n",
    "using DrWatson\n",
    "@quickactivate \"SpikingNeuralNetworks\"\n",
    "using SpikingNeuralNetworks\n",
    "SNN.@load_units\n",
    "import SpikingNeuralNetworks: AdExParameter, IFParameter, IFConstParameter, AdExConstParameter\n",
    "using Statistics, Random\n",
    "using Plots"
   ]
  },
  {
   "cell_type": "markdown",
   "metadata": {},
   "source": [
    "# LKD model params"
   ]
  },
  {
   "cell_type": "code",
   "execution_count": null,
   "metadata": {},
   "outputs": [],
   "source": [
    "## Neuron parameters\n",
    "τm = 20ms\n",
    "C = 300pF # Capacitance\n",
    "R = τm / C\n",
    "\n",
    "## Neuron parameters\n",
    "τre = 1ms # Rise time for excitatory synapses\n",
    "τde = 6ms # Decay time for excitatory synapses\n",
    "τri = 0.5ms # Rise time for inhibitory synapses \n",
    "τdi = 2ms # Decay time for inhibitory synapses\n",
    "\n",
    "# Input and synapse paramater\n",
    "N = 1000\n",
    "νe = 4.5Hz # Rate of external input to E neurons \n",
    "νi = 2.25Hz # Rate of external input to I neurons \n",
    "p_in = 0.2 #1.0 # 0.5 \n",
    "σ_in_E = 1.78pF\n",
    "\n",
    "σEE = 2.76pF # Initial E to E synaptic weight\n",
    "σIE = 48.7pF # Initial I to E synaptic weight\n",
    "σEI = 1.27pF # Synaptic weight from E to I\n",
    "σII = 16.2pF # Synaptic weight from I to I\n",
    "\n",
    "Random.seed!(23)\n",
    "duration = 700ms\n",
    "pltdur = 70e1"
   ]
  },
  {
   "cell_type": "markdown",
   "metadata": {},
   "source": [
    "## IF neuron with constant input current"
   ]
  },
  {
   "cell_type": "code",
   "execution_count": null,
   "metadata": {},
   "outputs": [],
   "source": [
    "LKD_IF_const = \n",
    "    IFConstParameter(τm = 20ms, Vt = -52mV, Vr = -60mV, El = -62mV, R = 20ms/300pF, τabs = 1ms)\n",
    "\n",
    "IFNeuron = SNN.IFConst(; N = 1, param = LKD_IF_const)"
   ]
  },
  {
   "cell_type": "code",
   "execution_count": null,
   "metadata": {},
   "outputs": [],
   "source": [
    "#\n",
    "P = [IFNeuron]\n",
    "C = []\n",
    "\n",
    "SNN.monitor([IFNeuron], [:v, :fire]) \n",
    "SNN.sim!(P, C; duration = duration)"
   ]
  },
  {
   "cell_type": "code",
   "execution_count": null,
   "metadata": {},
   "outputs": [],
   "source": [
    "p1 = plot(SNN.vecplot(IFNeuron, :v),\n",
    "xlabel = \"Time (ms)\", \n",
    "ylabel = \"Membrane Potential (mV)\", \n",
    "title = \"IF neuron with constant input\")"
   ]
  },
  {
   "cell_type": "markdown",
   "metadata": {},
   "source": [
    "## AdEx neuron with constant input current"
   ]
  },
  {
   "cell_type": "code",
   "execution_count": null,
   "metadata": {},
   "outputs": [],
   "source": [
    "LKD_AdEx_const = \n",
    "    AdExConstParameter(τm = 20ms, Vt = -52mV, Vr = -60mV, El = -70mV, R = 20ms/300pF, ΔT = 2mV, a = 4nS, b = 0.805pA, \n",
    "    τw = 150ms, τabs = 1ms, At = 10mV, τT = 30ms)\n",
    "\n",
    "AdExNeuron = SNN.AdExConst(; N = 1, param = LKD_AdEx_const)"
   ]
  },
  {
   "cell_type": "code",
   "execution_count": null,
   "metadata": {},
   "outputs": [],
   "source": [
    "P = [AdExNeuron]\n",
    "C = []\n",
    "\n",
    "SNN.monitor([AdExNeuron], [:v, :fire, :w]) \n",
    "SNN.sim!(P, C; duration = duration)"
   ]
  },
  {
   "cell_type": "code",
   "execution_count": null,
   "metadata": {},
   "outputs": [],
   "source": [
    "p1 = plot(SNN.vecplot(AdExNeuron, :v),\n",
    "xlabel = \"Time (ms)\", \n",
    "ylabel = \"Membrane Potential (mV)\")\n",
    "p2 = plot(SNN.vecplot(AdExNeuron,:w),\n",
    "xlabel = \"Time (ms)\",\n",
    "ylabel = \"Adaptation current (pA)\")\n",
    "plot(p1,p2, size=(1100,450), title = \"AdEx neuron with constant input\")"
   ]
  },
  {
   "cell_type": "markdown",
   "metadata": {},
   "source": [
    "## Adex neuron with Poisson input"
   ]
  },
  {
   "cell_type": "code",
   "execution_count": null,
   "metadata": {},
   "outputs": [],
   "source": [
    "LKD_AdEx_exc = \n",
    "    AdExParameter(τm = 20ms, Vt = -52mV, Vr = -60mV, El = -70mV, R = 20ms/300pF, ΔT = 2mV, τw = 150ms, a = 4nS,\n",
    "    b = 0.805pA, τabs = 1ms, τre = τre, τde = τde, τri = τri, τdi = τdi, E_i = -75mV, E_e = 0mV, At = 10mV, τT = 30ms)\n",
    "\n",
    "E = SNN.AdEx(; N = 1, param = LKD_AdEx_exc)\n",
    "\n",
    "Input_E = SNN.Poisson(; N = 500, param = SNN.PoissonParameter(; rate = νe))\n",
    "ProjE = SNN.SpikingSynapse(Input_E, E, :ge; σ = σ_in_E, p = p_in) # connection from input to E"
   ]
  },
  {
   "cell_type": "code",
   "execution_count": null,
   "metadata": {},
   "outputs": [],
   "source": [
    "P = [E, Input_E]\n",
    "C = [ProjE]\n",
    "\n",
    "SNN.monitor([E], [:v, :fire, :w]) \n",
    "SNN.sim!(P, C; duration = duration)"
   ]
  },
  {
   "cell_type": "code",
   "execution_count": null,
   "metadata": {},
   "outputs": [],
   "source": [
    "p1 = plot(SNN.vecplot(E,:v),\n",
    "xlabel = \"Time (ms)\", \n",
    "ylabel = \"Membrane Potential (mV)\")\n",
    "p2 = plot(SNN.vecplot(E,:w),\n",
    "xlabel = \"Time (ms)\",\n",
    "ylabel = \"Adaptation current (pA)\")\n",
    "plot(p1,p2, size=(1100,450), title = \"AdEx neurons with Poisson inputs\")"
   ]
  },
  {
   "cell_type": "markdown",
   "metadata": {},
   "source": [
    "## IF neuron with Poisson input"
   ]
  },
  {
   "cell_type": "code",
   "execution_count": null,
   "metadata": {},
   "outputs": [],
   "source": [
    "LKD_IF_inh =\n",
    "    IFParameter(τm = 20ms, Vt = -52mV, Vr = -60mV, El = -62mV, R = 20ms/300pF, ΔT = 2mV, \n",
    "    τre = τre, τde = τde, τri = τri, τdi = τdi, E_i = -75mV, E_e = 0mV, τabs = 1ms)\n",
    "\n",
    "I = SNN.IF(; N = 1, param = LKD_IF_inh)\n",
    "\n",
    "Input_I = SNN.Poisson(; N = 500, param = SNN.PoissonParameter(; rate = νi))\n",
    "ProjI = SNN.SpikingSynapse(Input_I, I, :ge; σ = σ_in_E, p = p_in)"
   ]
  },
  {
   "cell_type": "code",
   "execution_count": null,
   "metadata": {},
   "outputs": [],
   "source": [
    "P = [I, Input_I]\n",
    "C = [ProjI]\n",
    "\n",
    "SNN.monitor([I], [:v, :fire]) \n",
    "SNN.sim!(P, C; duration = duration)"
   ]
  },
  {
   "cell_type": "code",
   "execution_count": null,
   "metadata": {},
   "outputs": [],
   "source": [
    "p1 = plot(SNN.vecplot(I,:v),\n",
    "xlabel = \"Time (ms)\", \n",
    "ylabel = \"Membrane Potential (mV)\", \n",
    "title = \"IF neuron and Poisson inputs\")"
   ]
  },
  {
   "cell_type": "markdown",
   "metadata": {},
   "source": [
    "## AdEx excitatory and IF inhibitory"
   ]
  },
  {
   "cell_type": "code",
   "execution_count": null,
   "metadata": {},
   "outputs": [],
   "source": [
    "E = SNN.AdEx(; N = 1, param = LKD_AdEx_exc)\n",
    "I = SNN.IF(; N = 1, param = LKD_IF_inh)\n",
    "\n",
    "Input_E = SNN.Poisson(; N = 600, param = SNN.PoissonParameter(; rate = νe))\n",
    "ProjE = SNN.SpikingSynapse(Input_E, E, :ge; σ = σ_in_E, p = p_in) # connection from input to E\n",
    "Input_I = SNN.Poisson(; N = 150, param = SNN.PoissonParameter(; rate = νi))\n",
    "ProjI = SNN.SpikingSynapse(Input_I, I, :ge; σ = σ_in_E, p = p_in)\n",
    "\n",
    "EI = SNN.SpikingSynapse(E, I, :ge; σ = σEI, p = 1.0)\n",
    "IE = SNN.SpikingSynapse(I, E, :gi; σ = σIE, p = 1.0, param=SNN.iSTDPParameter())\n",
    "EE = SNN.SpikingSynapse(E, E, :ge; σ = σEE, p = 1.0, param=SNN.vSTDPParameter())\n",
    "II = SNN.SpikingSynapse(I, I, :gi; σ = σII, p = 1.0)"
   ]
  },
  {
   "cell_type": "code",
   "execution_count": null,
   "metadata": {},
   "outputs": [],
   "source": [
    "P = [E, I, Input_E, Input_I]\n",
    "C = [EE, II, EI, IE, ProjE, ProjI]\n",
    "\n",
    "SNN.monitor([E, I], [:v, :fire]) \n",
    "SNN.train!(P, C; duration = duration)"
   ]
  },
  {
   "cell_type": "code",
   "execution_count": null,
   "metadata": {},
   "outputs": [],
   "source": [
    "p1 = plot(SNN.vecplot([E], :v),\n",
    "xlabel = \"Time (ms)\", \n",
    "ylabel = \"Membrane Potential (mV)\", \n",
    "title = \"AdEx neuron coupled with IF neuron with Poisson inputs\")\n",
    "p2 = plot(SNN.vecplot([I], :v),\n",
    "xlabel = \"Time (ms)\",\n",
    "ylabel = \"Membrane Potential (mV)\", \n",
    "title = \"IF neuron coupled with AdEx neuron with Poisson inputs\")\n",
    "plot(p1, p2, size=(1500, 450))"
   ]
  },
  {
   "cell_type": "markdown",
   "metadata": {},
   "source": [
    "## Exploring weights"
   ]
  },
  {
   "cell_type": "code",
   "execution_count": null,
   "metadata": {},
   "outputs": [],
   "source": [
    "PrePost_weights = Vector{Float32}()\n",
    "PostPre_weights = Vector{Float32}()\n",
    "\n",
    "\n",
    "for fr in 1Hz:0.5Hz:50Hz\n",
    "\n",
    "    Pre = SNN.AdEx(; N = 1, param = LKD_AdEx_exc)\n",
    "    # Post = SNN.IF(; N = 1, param = LKD_IF_inh) \n",
    "    Post = SNN.AdEx(; N = 1, param = LKD_AdEx_exc)\n",
    "\n",
    "    Input_Pre = SNN.Poisson(; N = 600, param = SNN.PoissonParameter(; rate = fr))\n",
    "    ProjPre = SNN.SpikingSynapse(Input_Pre, Pre, :ge; σ = σ_in_E, p = p_in) # connection from input to E\n",
    "    Input_Post = SNN.Poisson(; N = 150, param = SNN.PoissonParameter(; rate = fr))\n",
    "    ProjPost = SNN.SpikingSynapse(Input_I, I, :ge; σ = σ_in_E, p = p_in)\n",
    "\n",
    "    PrePost = SNN.SpikingSynapse(Pre, Post, :ge; σ = σEI, p = 1.0, param=SNN.vSTDPParameter())\n",
    "    # IE = SNN.SpikingSynapse(I, E, :gi; σ = σIE, p = 1.0, param=SNN.iSTDPParameter())\n",
    "    # PrePre = SNN.SpikingSynapse(Pre, Pre, :ge; σ = σEE, p = 1.0, param=SNN.vSTDPParameter())\n",
    "    PostPre = SNN.SpikingSynapse(Post, Pre, :ge; σ = σIE, p = 1.0, param=SNN.vSTDPParameter()) # :gi\n",
    "\n",
    "    P = [Pre, Post, Input_Pre, Input_Post] # , Input_I\n",
    "    C = [PostPre, PrePost, ProjPre, ProjPost] #  IE, ProjI, PrePre, \n",
    "\n",
    "    SNN.monitor([Pre, Post], [:v, :fire]) \n",
    "    SNN.train!(P, C; duration = 5second)\n",
    "\n",
    "    push!(PrePost_weights, PrePost.W[1])\n",
    "    push!(PostPre_weights, PostPre.W[1])\n",
    "end\n",
    "\n",
    "p1 = plot(1:0.5:50, PrePost_weights, title=\"Weight pre-post\", xlabel=\"Firing rate (Hz)\", ylabel=\"Weight (pF)\")\n",
    "p2 = plot(1:0.5:50, PostPre_weights, title=\"Weight post-pre\", xlabel=\"Firing rate (Hz)\", ylabel=\"Weight (pF)\")\n",
    "plot(p1, p2, size=(1000, 450))"
   ]
  },
  {
   "cell_type": "code",
   "execution_count": null,
   "metadata": {},
   "outputs": [],
   "source": [
    "PrePost_weights = Vector{Float32}()\n",
    "PostPre_weights = Vector{Float32}()\n",
    "\n",
    "\n",
    "fr = 5Hz\n",
    "\n",
    "Pre = SNN.AdEx(; N = 1, param = LKD_AdEx_exc)\n",
    "# Post = SNN.IF(; N = 1, param = LKD_IF_inh) \n",
    "Post = SNN.AdEx(; N = 1, param = LKD_AdEx_exc)\n",
    "\n",
    "Input_Pre = SNN.Poisson(; N = 600, param = SNN.PoissonParameter(; rate = fr))\n",
    "ProjPre = SNN.SpikingSynapse(Input_Pre, Pre, :ge; σ = σ_in_E, p = p_in) # connection from input to E\n",
    "Input_Post = SNN.Poisson(; N = 150, param = SNN.PoissonParameter(; rate = fr))\n",
    "ProjPost = SNN.SpikingSynapse(Input_I, I, :ge; σ = σ_in_E, p = p_in)\n",
    "\n",
    "PrePost = SNN.SpikingSynapse(Pre, Post, :ge; σ = σEI, p = 1.0, param=SNN.vSTDPParameter())\n",
    "# IE = SNN.SpikingSynapse(I, E, :gi; σ = σIE, p = 1.0, param=SNN.iSTDPParameter())\n",
    "# PrePre = SNN.SpikingSynapse(Pre, Pre, :ge; σ = σEE, p = 1.0, param=SNN.vSTDPParameter())\n",
    "PostPre = SNN.SpikingSynapse(Post, Pre, :gi; σ = σIE, p = 1.0, param=SNN.vSTDPParameter()) # :gi\n",
    "\n",
    "P = [Pre, Post, Input_Pre, Input_Post] # , Input_I\n",
    "C = [PostPre, PrePost, ProjPre, ProjPost] #  IE, ProjI, PrePre, \n",
    "\n",
    "\n",
    "SNN.monitor([Pre, Post], [:v, :fire]) \n",
    "\n",
    "W = zeros((2,500))\n",
    "for i in 1:5\n",
    "    SNN.sim!(P, C; duration = 1second)\n",
    "    \n",
    "    W[1,i] = PostPre.W[1]\n",
    "    W[2,i] = PrePost.W[1]\n",
    "end\n",
    "# SNN.sim!(P, C; duration = 5second)\n",
    "\n",
    "# p1 = plot(W[1,:])\n",
    "# p2 = plot(W[2,:])\n",
    "# plot(p1, p2,  size=(1000, 450))\n",
    "\n",
    "SNN.vecplot([Pre], :v)\n",
    "\n",
    "\n",
    "# p1 = plot(1:0.5:50, W[], title=\"Weight pre-post\", xlabel=\"Firing rate (Hz)\", ylabel=\"Weight (pF)\")\n",
    "# p2 = plot(1:0.5:50, PostPre_weights, title=\"Weight post-pre\", xlabel=\"Firing rate (Hz)\", ylabel=\"Weight (pF)\")\n",
    "# plot(p1, p2, size=(1000, 450))"
   ]
  },
  {
   "cell_type": "code",
   "execution_count": null,
   "metadata": {},
   "outputs": [],
   "source": [
    "Pre = SNN.AdEx(; N = 1, param = LKD_AdEx_exc)\n",
    "Post = SNN.IF(; N = 1, param = LKD_IF_inh) \n",
    "# Post = SNN.AdEx(; N = 1, param = LKD_AdEx_exc)\n",
    "\n",
    "Input_Pre = SNN.Poisson(; N = 400, param = SNN.PoissonParameter(; rate = 10Hz))\n",
    "ProjPre = SNN.SpikingSynapse(Input_Pre, Pre, :ge; σ = σ_in_E, p = 0.2) # connection from input to E\n",
    "# Input_Post = SNN.Poisson(; N = 100, param = SNN.PoissonParameter(; rate = 30Hz))\n",
    "# ProjPost = SNN.SpikingSynapse(Input_Post, Post, :ge; σ = σ_in_E, p = 0.05)\n",
    "\n",
    "PrePost = SNN.SpikingSynapse(Pre, Post, :ge; σ = σEI, p = 1.0, param=SNN.vSTDPParameter())\n",
    "PostPre = SNN.SpikingSynapse(I, E, :gi; σ = σIE, p = 1.0, param=SNN.vSTDPParameter()) # SNN.iSTDPParameter()\n",
    "# PrePre = SNN.SpikingSynapse(Pre, Pre, :ge; σ = σEE, p = 1.0) # , param=SNN.vSTDPParameter()\n",
    "# PostPost = SNN.SpikingSynapse(Post, Post, :gi; σ = σII, p = 1.0)\n",
    "\n",
    "P = [Pre, Post, Input_Pre, Input_Post] #\n",
    "C = [PrePost, PostPre, ProjPre, ProjPost] # PrePre, PostPost, \n",
    "println(PrePost.W, PostPre.W)\n",
    "\n",
    "SNN.monitor([Pre, Post], [:v, :fire]) \n",
    "SNN.train!(P, C; duration = 5second)\n",
    "\n",
    "println(PrePost.W, PostPre.W)\n",
    "\n",
    "p1 = plot(SNN.vecplot([Pre], :v))\n",
    "p2 = plot(SNN.vecplot([Post], :v))\n",
    "plot(p1, p2, size=(1000, 450))"
   ]
  }
 ],
 "metadata": {
  "kernelspec": {
   "display_name": "Julia 1.9.4",
   "language": "julia",
   "name": "julia-1.9"
  },
  "language_info": {
   "file_extension": ".jl",
   "mimetype": "application/julia",
   "name": "julia",
   "version": "1.9.4"
  }
 },
 "nbformat": 4,
 "nbformat_minor": 2
}
