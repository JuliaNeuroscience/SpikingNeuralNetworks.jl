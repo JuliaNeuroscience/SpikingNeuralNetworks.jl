{
 "cells": [
  {
   "cell_type": "code",
   "execution_count": null,
   "metadata": {},
   "outputs": [],
   "source": [
    "using Revise\n",
    "using DrWatson\n",
    "@quickactivate \"SpikingNeuralNetworks\"\n",
    "using SpikingNeuralNetworks\n",
    "SNN.@load_units\n",
    "import SpikingNeuralNetworks: AdExParameter, IFParameter\n",
    "using Statistics, Random\n",
    "using Plots"
   ]
  },
  {
   "cell_type": "markdown",
   "metadata": {},
   "source": [
    "# LKD MODEL"
   ]
  },
  {
   "cell_type": "code",
   "execution_count": null,
   "metadata": {},
   "outputs": [],
   "source": [
    "## Neuron parameters\n",
    "τm = 20ms\n",
    "C = 300SNN.pF # Capacitance\n",
    "R = τm / C\n",
    "τre = 1ms # Rise time for excitatory synapses\n",
    "τde = 6ms # Decay time for excitatory synapses\n",
    "τri = 0.5ms # Rise time for inhibitory synapses \n",
    "τdi = 2ms # Decay time for inhibitory synapses\n",
    "\n",
    "# Input and synapse paramater\n",
    "N = 1000\n",
    "νe = 4.5Hz # Rate of external input to E neurons \n",
    "νi = 2.25Hz # Rate of external input to I neurons \n",
    "p_in = 1.0 # 0.5 \n",
    "σ_in_E = 1.78SNN.pF\n",
    "# σ_in_I = 48.7SNN.pF\n",
    "\n",
    "σEE = 2.76SNN.pF # Initial E to E synaptic weight\n",
    "σIE = 48.7SNN.pF # Initial I to E synaptic weight\n",
    "σEI = 1.27SNN.pF # Synaptic weight from E to I\n",
    "σII = 16.2SNN.pF # Synaptic weight from I to I\n",
    "\n",
    "Random.seed!(28)\n",
    "duration = 10ms\n",
    "tStep = 10e1"
   ]
  },
  {
   "cell_type": "markdown",
   "metadata": {},
   "source": [
    "## Adex Neuron excitatory"
   ]
  },
  {
   "cell_type": "code",
   "execution_count": null,
   "metadata": {},
   "outputs": [],
   "source": [
    "LKD_AdEx_exc = \n",
    "    AdExParameter(τm = 20ms, Vt = -52mV, Vr = -60mV, El = -70mV, R = R, \n",
    "    b = 0.000805nA, τw = 150ms, τre = τre, τde = τde, τri = τri, τdi = τdi, At = 10mV, τT = 30ms, E_i=-75mV, E_e = 0mV)\n",
    "\n",
    "E = SNN.AdEx(; N = 4000, param = LKD_AdEx_exc)\n",
    "\n",
    "Input_E = SNN.Poisson(; N = N, param = SNN.PoissonParameter(; rate = νe))\n",
    "ProjE = SNN.SpikingSynapse(Input_E, E, :ge; σ = σ_in_E, p = p_in) # connection from input to E\n",
    "\n",
    "EE = SNN.SpikingSynapse(E, E, :ge; σ = σEE, p = 0.2, param=SNN.vSTDPParameter()) # recurrent connection from E to E"
   ]
  },
  {
   "cell_type": "code",
   "execution_count": null,
   "metadata": {},
   "outputs": [],
   "source": [
    "#\n",
    "P = [E, Input_E]\n",
    "C = [EE, ProjE]\n",
    "\n",
    "#\n",
    "SNN.monitor([E], [:fire]) \n",
    "SNN.sim!(P, C; duration = duration)\n",
    "SNN.raster([E], [0, 1] .* tStep) "
   ]
  },
  {
   "cell_type": "markdown",
   "metadata": {},
   "source": [
    "## Adex neuron inhibitory"
   ]
  },
  {
   "cell_type": "code",
   "execution_count": null,
   "metadata": {},
   "outputs": [],
   "source": [
    "LKD_AdEx_inh =\n",
    "    AdExParameter(τm = 20ms, Vt = -52mV, Vr = -60mV, El = -62mV, R = R, \n",
    "    b = 0.000805nA, τw = 150ms, τre = τre, τde = τde, τri = τri, τdi = τdi, At = 10mV, τT = 30ms, E_i=-75mV, E_e = 0mV)\n",
    "\n",
    "I = SNN.AdEx(; N = 1000, param = LKD_AdEx_inh)\n",
    "\n",
    "Input_I = SNN.Poisson(; N = N, param = SNN.PoissonParameter(; rate = νi))\n",
    "ProjI = SNN.SpikingSynapse(Input_I, I, :ge; σ = σ_in_E, p = p_in)\n",
    "\n",
    "II = SNN.SpikingSynapse(I, I, :gi; σ = σII, p = 0.2)"
   ]
  },
  {
   "cell_type": "code",
   "execution_count": null,
   "metadata": {},
   "outputs": [],
   "source": [
    "#\n",
    "P = [I, Input_I]\n",
    "C = [II, ProjI]\n",
    "\n",
    "#\n",
    "SNN.monitor([I], [:fire]) \n",
    "SNN.sim!(P, C; duration = duration)\n",
    "SNN.raster([I], [0, 1] .* tStep) "
   ]
  },
  {
   "cell_type": "markdown",
   "metadata": {},
   "source": [
    "## AdEx excitatory and AdEx inhibitory"
   ]
  },
  {
   "cell_type": "code",
   "execution_count": null,
   "metadata": {},
   "outputs": [],
   "source": [
    "EI = SNN.SpikingSynapse(E, I, :ge; σ = σEI, p = 0.2)\n",
    "IE = SNN.SpikingSynapse(I, E, :gi; σ = σIE, p = 0.2, param=SNN.iSTDPParameter())"
   ]
  },
  {
   "cell_type": "code",
   "execution_count": null,
   "metadata": {},
   "outputs": [],
   "source": [
    "#\n",
    "P = [E, I, Input_E, Input_I]\n",
    "C = [EE, EI, IE, II, ProjE, ProjI]\n",
    "\n",
    "#\n",
    "SNN.monitor([E, I], [:fire]) \n",
    "SNN.sim!(P, C; duration = duration)\n",
    "SNN.raster([E, I], [0, 1] .* tStep) "
   ]
  },
  {
   "cell_type": "markdown",
   "metadata": {},
   "source": [
    "## IF inhibitory"
   ]
  },
  {
   "cell_type": "code",
   "execution_count": null,
   "metadata": {},
   "outputs": [],
   "source": [
    "LKD_IF_inh =\n",
    "    IFParameter(τm = 20ms, Vt = -52mV, Vr = -60mV, El = -62mV, R = R, τre = τre, τde = τde, τri = τri, τdi = τdi, E_i = -75mV, E_e=0mV)\n",
    "\n",
    "I = SNN.IF(; N = 1000, param = LKD_IF_inh)\n",
    "\n",
    "Input_I = SNN.Poisson(; N = N, param = SNN.PoissonParameter(; rate = νi))\n",
    "ProjI = SNN.SpikingSynapse(Input_I, I, :ge; σ = σ_in_E, p = p_in)\n",
    "\n",
    "II = SNN.SpikingSynapse(I, I, :gi; σ = σII, p = 0.2)"
   ]
  },
  {
   "cell_type": "code",
   "execution_count": null,
   "metadata": {},
   "outputs": [],
   "source": [
    "#\n",
    "P = [I, Input_I]\n",
    "C = [II, ProjI]\n",
    "\n",
    "#\n",
    "SNN.monitor([I], [:fire]) \n",
    "SNN.sim!(P, C; duration = duration)\n",
    "SNN.raster([I], [0, 1] .* tStep) "
   ]
  },
  {
   "cell_type": "markdown",
   "metadata": {},
   "source": [
    "## AdEx excitatory and IF inhibitory"
   ]
  },
  {
   "cell_type": "code",
   "execution_count": null,
   "metadata": {},
   "outputs": [],
   "source": [
    "EI = SNN.SpikingSynapse(E, I, :ge; σ = σEI, p = 0.2)\n",
    "IE = SNN.SpikingSynapse(I, E, :gi; σ = σIE, p = 0.2, param=SNN.iSTDPParameter())"
   ]
  },
  {
   "cell_type": "code",
   "execution_count": null,
   "metadata": {},
   "outputs": [],
   "source": [
    "#\n",
    "P = [E, I, Input_E, Input_I]\n",
    "C = [EE, EI, IE, II, ProjE, ProjI]\n",
    "\n",
    "#\n",
    "SNN.monitor([E, I], [:fire]) \n",
    "SNN.sim!(P, C; duration = duration)\n",
    "SNN.raster([E, I], [0, 1] .* tStep)"
   ]
  },
  {
   "cell_type": "markdown",
   "metadata": {},
   "source": [
    "# Understanding Balanced Networks"
   ]
  },
  {
   "cell_type": "code",
   "execution_count": null,
   "metadata": {},
   "outputs": [],
   "source": [
    "function firing_frequency(E, I)\n",
    "    E_neuron_spikes = map(sum, E.records[:fire])./length(E.records[:fire]) # avg spikes at each time step\n",
    "    I_neuron_spikes = map(sum, I.records[:fire])./length(E.records[:fire]) # avg spikes at each time step\n",
    "\n",
    "    bin_width = 5  # in milliseconds\n",
    "    num_bins = Int(length(neuron_spikes) / bin_width)\n",
    "    bin_edges = 1:bin_width:(num_bins * bin_width)\n",
    "\n",
    "    # Count the number of spikes in each bin\n",
    "    E_bin_count = [sum(E_neuron_spikes[i:i+bin_width-1]) for i in bin_edges]\n",
    "    I_bin_count = [sum(I_neuron_spikes[i:i+bin_width-1]) for i in bin_edges]\n",
    "\n",
    "    return E_bin_count, I_bin_count\n",
    "end "
   ]
  },
  {
   "cell_type": "code",
   "execution_count": null,
   "metadata": {},
   "outputs": [],
   "source": [
    "frequencies = [1Hz 10Hz 100Hz 1000Hz]\n",
    "E_bin_counts = []\n",
    "I_bin_counts = []\n",
    "\n",
    "for νi in frequencies\n",
    "    Input_I = SNN.Poisson(; N = N, param = SNN.PoissonParameter(; rate = νi))\n",
    "    ProjI = SNN.SpikingSynapse(Input_I, I, :ge; σ = σ_in_I, p = p_in)\n",
    "\n",
    "    #\n",
    "    P = [E, I, Input_E, Input_I]\n",
    "    C = [ProjE, ProjI]\n",
    "\n",
    "    #\n",
    "    SNN.monitor([E, I], [:fire]) \n",
    "    SNN.sim!(P, C; duration = duration)\n",
    "    \n",
    "    E_bin_count, I_bin_count = firing_frequency(E, I)\n",
    "    push!(E_bin_counts, E_bin_count)\n",
    "    push!(I_bin_counts, I_bin_count)\n",
    "end\n",
    "\n",
    "# Create a new plot or use an existing plot if it exists\n",
    "plot(xlabel=\"Time (ms)\", size=(800, 800), ylabel=\"Firing frequency (spikes/$(bin_width) ms)\", \n",
    "    xtickfontsize=6, ytickfontsize=6, yguidefontsize=6, xguidefontsize=6, titlefontsize=7,\n",
    "    legend=:bottomright, layout=(length(frequencies), 1), title=[\"νi = $νi\" for νi in frequencies])\n",
    "\n",
    "# Plot excitatory neurons\n",
    "plot!(bin_edges, E_bin_counts, label=\"Excitatory neurons\")\n",
    "# Plot inhibitory neurons\n",
    "plot!(bin_edges, I_bin_counts, label=\"Inhibitory neurons\")\n"
   ]
  },
  {
   "cell_type": "code",
   "execution_count": null,
   "metadata": {},
   "outputs": [],
   "source": [
    "frequencies = 1Hz:1Hz:100Hz\n"
   ]
  }
 ],
 "metadata": {
  "kernelspec": {
   "display_name": "Julia 1.9.4",
   "language": "julia",
   "name": "julia-1.9"
  },
  "language_info": {
   "file_extension": ".jl",
   "mimetype": "application/julia",
   "name": "julia",
   "version": "1.9.4"
  }
 },
 "nbformat": 4,
 "nbformat_minor": 2
}
