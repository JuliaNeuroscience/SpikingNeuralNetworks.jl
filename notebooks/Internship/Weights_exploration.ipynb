{
 "cells": [
  {
   "cell_type": "code",
   "execution_count": null,
   "metadata": {},
   "outputs": [],
   "source": [
    "using Revise\n",
    "using DrWatson\n",
    "@quickactivate \"SpikingNeuralNetworks\"\n",
    "using SpikingNeuralNetworks\n",
    "SNN.@load_units\n",
    "import SpikingNeuralNetworks: AdExParameter, IFParameter, IFConstParameter, AdExConstParameter\n",
    "using Statistics, Random\n",
    "using Plots"
   ]
  },
  {
   "cell_type": "code",
   "execution_count": null,
   "metadata": {},
   "outputs": [],
   "source": [
    "## Neuron parameters\n",
    "τm = 20ms\n",
    "C = 300pF # Capacitance\n",
    "R = τm / C\n",
    "\n",
    "## Neuron parameters\n",
    "τre = 1ms # Rise time for excitatory synapses\n",
    "τde = 6ms # Decay time for excitatory synapses\n",
    "τri = 0.5ms # Rise time for inhibitory synapses \n",
    "τdi = 2ms # Decay time for inhibitory synapses\n",
    "\n",
    "# Input and synapse paramater\n",
    "N = 1000\n",
    "νe = 4.5Hz # Rate of external input to E neurons \n",
    "νi = 2.25Hz # Rate of external input to I neurons \n",
    "p_in = 1.0 #1.0 # 0.5 \n",
    "σ_in_E = 1.78pF\n",
    "\n",
    "σEE = 2.76pF # Initial E to E synaptic weight\n",
    "σIE = 48.7pF # Initial I to E synaptic weight\n",
    "σEI = 1.27pF # Synaptic weight from E to I\n",
    "σII = 16.2pF # Synaptic weight from I to I\n",
    "\n",
    "Random.seed!(23)\n",
    "duration = 2000ms # 2 seconds\n",
    "pltdur = 200e1# 100e1"
   ]
  },
  {
   "cell_type": "code",
   "execution_count": null,
   "metadata": {},
   "outputs": [],
   "source": [
    "LKD_AdEx_exc = \n",
    "    AdExParameter(τm = 20ms, Vt = -52mV, Vr = -60mV, El = -70mV, R = 20ms/300pF, ΔT = 2mV, τw = 150ms, a = 4nS,\n",
    "    b = 0.805pA, τabs = 1ms, τre = τre, τde = τde, τri = τri, τdi = τdi, E_i = -75mV, E_e = 0mV, At = 10mV, τT = 30ms)\n",
    "\n",
    "LKD_IF_inh =\n",
    "    IFParameter(τm = 20ms, Vt = -52mV, Vr = -60mV, El = -62mV, R = 20ms/300pF, ΔT = 2mV, \n",
    "    τre = τre, τde = τde, τri = τri, τdi = τdi, E_i = -75mV, E_e = 0mV, τabs = 1ms)"
   ]
  },
  {
   "cell_type": "markdown",
   "metadata": {},
   "source": [
    "## Exploring weights"
   ]
  },
  {
   "cell_type": "code",
   "execution_count": null,
   "metadata": {},
   "outputs": [],
   "source": [
    "νpre = 20Hz # Rate of external input to presynaptic neuron\n",
    "νpost = 4.5Hz # Rate of external input to postsynaptic neuron\n",
    "\n",
    "Pre = SNN.AdEx(; N = 1, param = LKD_AdEx_exc)\n",
    "Post = SNN.IF(; N = 1, param = LKD_IF_inh) "
   ]
  },
  {
   "cell_type": "code",
   "execution_count": null,
   "metadata": {},
   "outputs": [],
   "source": [
    "Input_Pre = SNN.Poisson(; N = 100, param = SNN.PoissonParameter(; rate = νpre))\n",
    "ProjPre = SNN.SpikingSynapse(Input_Pre, Pre, :ge; σ = σ_in_E, p = p_in) # connection from input to presynaptic neuron\n",
    "Input_Post = SNN.Poisson(; N = 100, param = SNN.PoissonParameter(; rate = νpost))\n",
    "ProjPost = SNN.SpikingSynapse(Input_Post, Post, :ge; σ = σ_in_E, p = p_in) # connection from input to postsynaptic neuron"
   ]
  },
  {
   "cell_type": "code",
   "execution_count": null,
   "metadata": {},
   "outputs": [],
   "source": [
    "function average_firing_rate(E, I, bin_width = 10) # in milliseconds\n",
    "    num_bins = Int(length(E.records[:fire]) / bin_width)\n",
    "    bin_edges = 1:bin_width:(num_bins * bin_width)\n",
    "    # avg spikes at each time step\n",
    "    E_neuron_spikes = map(sum, E.records[:fire]) ./ E.N\n",
    "    I_neuron_spikes = map(sum, I.records[:fire]) ./ E.N\n",
    "    # Count the number of spikes in each bin\n",
    "    E_bin_count = [sum(E_neuron_spikes[i:i+bin_width-1]) for i in bin_edges]\n",
    "    I_bin_count = [sum(I_neuron_spikes[i:i+bin_width-1]) for i in bin_edges]\n",
    "    return mean(E_bin_count), mean(I_bin_count)\n",
    "end"
   ]
  },
  {
   "cell_type": "markdown",
   "metadata": {},
   "source": [
    "### Before connecting neurons"
   ]
  },
  {
   "cell_type": "code",
   "execution_count": null,
   "metadata": {},
   "outputs": [],
   "source": [
    "P = [Pre, Post, Input_Pre, Input_Post]\n",
    "C = [ProjPre, ProjPost]\n",
    "\n",
    "SNN.monitor([Pre, Post], [:v, :fire]) \n",
    "SNN.sim!(P, C; duration = duration)"
   ]
  },
  {
   "cell_type": "code",
   "execution_count": null,
   "metadata": {},
   "outputs": [],
   "source": [
    "size(Pre.records[:fire])"
   ]
  },
  {
   "cell_type": "code",
   "execution_count": null,
   "metadata": {},
   "outputs": [],
   "source": [
    "plot(SNN.vecplot(Pre, :v),\n",
    "xlabel = \"Time (ms)\", \n",
    "ylabel = \"Membrane Potential (mV)\", \n",
    "title = \"Presynaptic neuron with Poisson input\")"
   ]
  },
  {
   "cell_type": "code",
   "execution_count": null,
   "metadata": {},
   "outputs": [],
   "source": [
    "plot(SNN.vecplot(Post, :v),\n",
    "xlabel = \"Time (ms)\", \n",
    "ylabel = \"Membrane Potential (mV)\", \n",
    "title = \"Postsynaptic neuron with Poisson input\")"
   ]
  },
  {
   "cell_type": "code",
   "execution_count": null,
   "metadata": {},
   "outputs": [],
   "source": [
    "# Firing rates of the two neurons before connecting them\n",
    "PreRate, PostRate = average_firing_rate(Pre, Post, 10000)\n",
    "println(\"Firing rate presynaptic neuron: \", PreRate, \"Hz, Firing rate postsynaptic neuron: \", PostRate, \"Hz\")"
   ]
  },
  {
   "cell_type": "markdown",
   "metadata": {},
   "source": [
    "### After connecting neurons"
   ]
  },
  {
   "cell_type": "code",
   "execution_count": null,
   "metadata": {},
   "outputs": [],
   "source": [
    "σPrePost = 1.27pF # Initial pre- to post-synaptic neuron weight\n",
    "σPostPre = 48.7pF # Initial post- to pre-synaptic neuron weight\n",
    "iSTDPparams = SNN.iSTDPParameter()\n",
    "vSTDPparams = SNN.vSTDPParameter()\n",
    "\n",
    "Pre = SNN.AdEx(; N = 1, param = LKD_AdEx_exc)\n",
    "Post = SNN.IF(; N = 1, param = LKD_IF_inh) \n",
    "\n",
    "Input_Pre = SNN.Poisson(; N = 100, param = SNN.PoissonParameter(; rate = νpre))\n",
    "ProjPre = SNN.SpikingSynapse(Input_Pre, Pre, :ge; σ = σ_in_E, p = p_in) # connection from input to presynaptic neuron\n",
    "Input_Post = SNN.Poisson(; N = 100, param = SNN.PoissonParameter(; rate = νpost))\n",
    "ProjPost = SNN.SpikingSynapse(Input_Post, Post, :ge; σ = σ_in_E, p = p_in) # connection from input to postsynaptic neuron\n",
    "\n",
    "PrePost = SNN.SpikingSynapse(Pre, Post, :ge; σ = σPrePost, p = 1.0, param=vSTDPparams)\n",
    "PostPre = SNN.SpikingSynapse(Post, Pre, :gi; σ = σPostPre, p = 1.0, param=iSTDPparams)\n",
    "\n",
    "P = [Pre, Post, Input_Pre, Input_Post]\n",
    "C = [PostPre, PrePost, ProjPre, ProjPost]\n",
    "\n",
    "SNN.monitor([Pre, Post], [:v, :fire]) \n",
    "SNN.sim!(P, C; duration = duration)"
   ]
  },
  {
   "cell_type": "code",
   "execution_count": null,
   "metadata": {},
   "outputs": [],
   "source": [
    "p1 = plot(SNN.vecplot(Pre, :v),\n",
    "xlabel = \"Time (ms)\", \n",
    "ylabel = \"Membrane Potential (mV)\", \n",
    "title = \"Presynaptic neuron with Poisson input\")\n",
    "p2 = plot(SNN.vecplot(Post, :v),\n",
    "xlabel = \"Time (ms)\", \n",
    "ylabel = \"Membrane Potential (mV)\", \n",
    "title = \"Postsynaptic neuron with Poisson input\")\n",
    "plot(p1, p2,  size=(1000, 450))"
   ]
  },
  {
   "cell_type": "code",
   "execution_count": null,
   "metadata": {},
   "outputs": [],
   "source": [
    "# Firing rates of the two neurons before connecting them\n",
    "PreRate, PostRate = average_firing_rate(Pre, Post, 10000)\n",
    "println(\"Firing rate presynaptic neuron: \", PreRate, \"Hz, Firing rate postsynaptic neuron: \", PostRate, \"Hz\")"
   ]
  },
  {
   "cell_type": "markdown",
   "metadata": {},
   "source": [
    "### Varying initial weights"
   ]
  },
  {
   "cell_type": "code",
   "execution_count": null,
   "metadata": {},
   "outputs": [],
   "source": [
    "iSTDPparams = SNN.iSTDPParameter()\n",
    "vSTDPparams = SNN.vSTDPParameter()\n",
    "νpre = 20Hz # Rate of external input to presynaptic neuron\n",
    "νpost = 4.5Hz # Rate of external input to postsynaptic neuron\n",
    "\n",
    "initial_weights_PrePost = 1pF:2pF:5pF\n",
    "initial_weights_PostPre = 30pF:10pF:50pF\n",
    "\n",
    "excitatory_list = []\n",
    "inhibitory_list = []\n",
    "for σPrePost in initial_weights_PrePost\n",
    "    for σPostPre in initial_weights_PostPre\n",
    "        println(\"σPrePost: \", σPrePost, \", σPostPre:\", σPostPre)\n",
    "        Pre = SNN.AdEx(; N = 1, param = LKD_AdEx_exc)\n",
    "        Post = SNN.IF(; N = 1, param = LKD_IF_inh) \n",
    "\n",
    "        Input_Pre = SNN.Poisson(; N = 100, param = SNN.PoissonParameter(; rate = νpre))\n",
    "        ProjPre = SNN.SpikingSynapse(Input_Pre, Pre, :ge; σ = σ_in_E, p = p_in) # connection from input to presynaptic neuron\n",
    "        Input_Post = SNN.Poisson(; N = 100, param = SNN.PoissonParameter(; rate = νpost))\n",
    "        ProjPost = SNN.SpikingSynapse(Input_Post, Post, :ge; σ = σ_in_E, p = p_in) # connection from input to postsynaptic neuron\n",
    "\n",
    "        PrePost = SNN.SpikingSynapse(Pre, Post, :ge; σ = σPrePost, p = 1.0, param=vSTDPparams)\n",
    "        PostPre = SNN.SpikingSynapse(Post, Pre, :gi; σ = σPostPre, p = 1.0, param=iSTDPparams)\n",
    "\n",
    "        P = [Pre, Post, Input_Pre, Input_Post]\n",
    "        C = [PostPre, PrePost, ProjPre, ProjPost]\n",
    "\n",
    "        SNN.monitor([Pre, Post], [:v, :fire]) \n",
    "        W = zeros((2,1000)) # 1000 seconds, axis1: postpre, axis2: prepre\n",
    "        start = 1\n",
    "        ends = 0 \n",
    "        spikes_per_sec_list = zeros(Int64, 1000)\n",
    "        for i in 1:1000\n",
    "            SNN.train!(P, C; duration = 1second)\n",
    "            W[1,i] = PostPre.W[1] # mean(PostPre.W)\n",
    "            W[2,i] = PrePost.W[1] # mean(PrePre.W)\n",
    "            \n",
    "            spikes_per_sec = sum(Pre.records[:fire][start:(ends*10000)+10000]) #    \n",
    "            spikes_per_sec_list[i] =  spikes_per_sec[1]\n",
    "            if i == 1\n",
    "                start = 10000\n",
    "            else\n",
    "                start += 10000\n",
    "            end\n",
    "            ends += 1\n",
    "        end\n",
    "        push!(excitatory_list, W[2,:])\n",
    "        push!(inhibitory_list, W[1,:])\n",
    "    end\n",
    "end \n",
    "\n",
    "# Create a figure with two subplots\n",
    "p1 = plot(1:1:length(excitatory_list[1]), excitatory_list, title=\"Excitatory weight\", label=false)\n",
    "p2 = plot(1:1:length(inhibitory_list[1]), inhibitory_list, title=\"Inhibitory weight\", label=false)\n",
    "plot(p1, p2, layout=(2,1), size=(1000, 600), xlabel=\"Time (s)\")"
   ]
  },
  {
   "cell_type": "code",
   "execution_count": null,
   "metadata": {},
   "outputs": [],
   "source": [
    "# Create a figure with two subplots\n",
    "p1 = plot(1:1:length(excitatory_list[1]), excitatory_list[1], title=\"Excitatory weight\", label=false)\n",
    "p2 = plot(1:1:length(inhibitory_list[1]), inhibitory_list[1], title=\"Inhibitory weight\", label=false)\n",
    "plot(p1, p2, layout=(2,1), size=(1000, 600), xlabel=\"Time (s)\")"
   ]
  },
  {
   "cell_type": "markdown",
   "metadata": {},
   "source": [
    "### Weights change over time"
   ]
  },
  {
   "cell_type": "code",
   "execution_count": null,
   "metadata": {},
   "outputs": [],
   "source": [
    "σPrePost = 1.27pF # Initial pre- to post-synaptic neuron weight\n",
    "σPostPre = 48.7pF # Initial post- to pre-synaptic neuron weight\n",
    "iSTDPparams = SNN.iSTDPParameter()\n",
    "vSTDPparams = SNN.vSTDPParameter()\n",
    "νpre = 20Hz # Rate of external input to presynaptic neuron\n",
    "νpost = 4.5Hz # Rate of external input to postsynaptic neuron\n",
    "\n",
    "Pre = SNN.AdEx(; N = 1, param = LKD_AdEx_exc)\n",
    "Post = SNN.IF(; N = 1, param = LKD_IF_inh) \n",
    "\n",
    "Input_Pre = SNN.Poisson(; N = 100, param = SNN.PoissonParameter(; rate = νpre))\n",
    "ProjPre = SNN.SpikingSynapse(Input_Pre, Pre, :ge; σ = σ_in_E, p = p_in) # connection from input to presynaptic neuron\n",
    "Input_Post = SNN.Poisson(; N = 100, param = SNN.PoissonParameter(; rate = νpost))\n",
    "ProjPost = SNN.SpikingSynapse(Input_Post, Post, :ge; σ = σ_in_E, p = p_in) # connection from input to postsynaptic neuron\n",
    "\n",
    "PrePost = SNN.SpikingSynapse(Pre, Post, :ge; σ = σPrePost, p = 1.0, param=vSTDPparams)\n",
    "PostPre = SNN.SpikingSynapse(Post, Pre, :gi; σ = σPostPre, p = 1.0, param=iSTDPparams)\n",
    "\n",
    "P = [Pre, Post, Input_Pre, Input_Post]\n",
    "C = [PostPre, PrePost, ProjPre, ProjPost]\n",
    "\n",
    "SNN.monitor([Pre, Post], [:v, :fire]) \n",
    "\n",
    "W = zeros((2,1000)) # 1000 seconds, axis1: postpre, axis2: prepre\n",
    "start = 1\n",
    "ends = 0 \n",
    "spikes_per_sec_list = zeros(Int64, 1000)\n",
    "for i in 1:1000\n",
    "    SNN.train!(P, C; duration = 1second)\n",
    "    W[1,i] = PostPre.W[1] # mean(PostPre.W)\n",
    "    W[2,i] = PrePost.W[1] # mean(PrePre.W)\n",
    "    spikes_per_sec = sum(Pre.records[:fire][start:(ends*10000)+10000]) #    \n",
    "    spikes_per_sec_list[i] =  spikes_per_sec[1]\n",
    "    if i == 1\n",
    "        start = 10000\n",
    "    else\n",
    "        start += 10000\n",
    "    end\n",
    "    ends += 1\n",
    "end\n",
    "p1 = plot(W[2,:], label=\"Excitatory weight\") # , ylims = (vSTDPparams.Wmin, vSTDPparams.Wmax)\n",
    "p2 = plot(W[1,:], label=\"Inhibitory weight\") # , ylims = (iSTDPparams.Wmin, iSTDPparams.Wmax)\n",
    "plot(p1, p2,  size=(1000, 450), xlabel=\"Time (s)\")"
   ]
  },
  {
   "cell_type": "markdown",
   "metadata": {},
   "source": [
    "### Varying initial rate"
   ]
  },
  {
   "cell_type": "code",
   "execution_count": null,
   "metadata": {},
   "outputs": [],
   "source": [
    "iSTDPparams = SNN.iSTDPParameter()\n",
    "vSTDPparams = SNN.vSTDPParameter()\n",
    "σPrePost = 1.27pF # Initial pre- to post-synaptic neuron weight\n",
    "σPostPre = 48.7pF # Initial post- to pre-synaptic neuron weight\n",
    "initial_rate_PrePost = 1Hz:5Hz:45Hz\n",
    "initial_rate_PostPre = 1Hz:5Hz:45Hz\n",
    "\n",
    "excitatory_list = []\n",
    "inhibitory_list = []\n",
    "for νpre in initial_rate_PrePost\n",
    "    for νpost in initial_rate_PostPre\n",
    "        println(\"in\")\n",
    "        Pre = SNN.AdEx(; N = 1, param = LKD_AdEx_exc)\n",
    "        Post = SNN.IF(; N = 1, param = LKD_IF_inh) \n",
    "\n",
    "        Input_Pre = SNN.Poisson(; N = 100, param = SNN.PoissonParameter(; rate = νpre))\n",
    "        ProjPre = SNN.SpikingSynapse(Input_Pre, Pre, :ge; σ = σ_in_E, p = p_in) # connection from input to presynaptic neuron\n",
    "        Input_Post = SNN.Poisson(; N = 100, param = SNN.PoissonParameter(; rate = νpost))\n",
    "        ProjPost = SNN.SpikingSynapse(Input_Post, Post, :ge; σ = σ_in_E, p = p_in) # connection from input to postsynaptic neuron\n",
    "\n",
    "        PrePost = SNN.SpikingSynapse(Pre, Post, :ge; σ = σPrePost, p = 1.0, param=vSTDPparams)\n",
    "        PostPre = SNN.SpikingSynapse(Post, Pre, :gi; σ = σPostPre, p = 1.0, param=iSTDPparams)\n",
    "\n",
    "        P = [Pre, Post, Input_Pre, Input_Post]\n",
    "        C = [PostPre, PrePost, ProjPre, ProjPost]\n",
    "\n",
    "        SNN.monitor([Pre, Post], [:v, :fire]) \n",
    "        W = zeros((2,1000)) # 1000 seconds, axis1: postpre, axis2: prepre\n",
    "        start = 1\n",
    "        ends = 0 \n",
    "        spikes_per_sec_list = zeros(Int64, 1000)\n",
    "        for i in 1:1000\n",
    "            SNN.train!(P, C; duration = 1second)\n",
    "            W[1,i] = PostPre.W[1] # mean(PostPre.W)\n",
    "            W[2,i] = PrePost.W[1] # mean(PrePre.W)\n",
    "            \n",
    "            spikes_per_sec = sum(Pre.records[:fire][start:(ends*10000)+10000]) #    \n",
    "            spikes_per_sec_list[i] =  spikes_per_sec[1]\n",
    "            if i == 1\n",
    "                start = 10000\n",
    "            else\n",
    "                start += 10000\n",
    "            end\n",
    "            ends += 1\n",
    "        end\n",
    "        push!(excitatory_list, W[2,:])\n",
    "        push!(inhibitory_list, W[1,:])\n",
    "    end\n",
    "end \n",
    "\n",
    "# Create a figure with two subplots\n",
    "p1 = plot(1:1:length(excitatory_list[1]), excitatory_list, title=\"Excitatory weight\", label=false)\n",
    "p2 = plot(1:1:length(inhibitory_list[1]), inhibitory_list, title=\"Inhibitory weight\", label=false)\n",
    "plot(p1, p2, layout=(2,1), size=(1000, 600), xlabel=\"Time (s)\")"
   ]
  }
 ],
 "metadata": {
  "kernelspec": {
   "display_name": "Julia 1.9.4",
   "language": "julia",
   "name": "julia-1.9"
  },
  "language_info": {
   "file_extension": ".jl",
   "mimetype": "application/julia",
   "name": "julia",
   "version": "1.9.4"
  }
 },
 "nbformat": 4,
 "nbformat_minor": 2
}
